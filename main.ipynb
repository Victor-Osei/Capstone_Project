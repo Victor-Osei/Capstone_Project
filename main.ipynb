{
 "cells": [
  {
   "cell_type": "code",
   "execution_count": 3,
   "metadata": {},
   "outputs": [],
   "source": [
    "import pyodbc    \n",
    "from dotenv import dotenv_values\n",
    "import warnings \n",
    "warnings.filterwarnings('ignore')\n",
    "from statsmodels.tools.sm_exceptions import ValueWarning\n",
    "\n",
    "#libraries for handling data\n",
    "import pandas as pd\n",
    "import numpy as np \n",
    "\n"
   ]
  },
  {
   "cell_type": "code",
   "execution_count": 4,
   "metadata": {},
   "outputs": [
    {
     "name": "stdout",
     "output_type": "stream",
     "text": [
      "Connection successful\n"
     ]
    }
   ],
   "source": [
    "# load environment variables from.env file into dictionary\n",
    "environment_variables = dotenv_values(\".env\")\n",
    " \n",
    "# get the values for the environment variables\n",
    "server = environment_variables.get(\"server\")\n",
    "user = environment_variables.get(\"user\")\n",
    "password = environment_variables.get(\"password\")\n",
    "database = environment_variables.get(\"database\")\n",
    " \n",
    "# Create a database connection string using pyodbc\n",
    "connection_string = f\"DRIVER={{SQL Server}};SERVER={server};DATABASE={database};UID={user};PWD={password}\"\n",
    "\n",
    "#Establish a connection to the database\n",
    "try:\n",
    "    connection = pyodbc.connect(connection_string)\n",
    "    print(\"Connection successful\")    \n",
    "except Exception as e:\n",
    "    print(\"Connection failed:\", e)"
   ]
  },
  {
   "cell_type": "code",
   "execution_count": 5,
   "metadata": {},
   "outputs": [
    {
     "name": "stdout",
     "output_type": "stream",
     "text": [
      "Sales_July_2019\n",
      "Sales_August_2019\n",
      "Sales_September_2019\n",
      "Sales_October_2019\n",
      "Sales_November_2019\n",
      "Sales_December_2019\n"
     ]
    }
   ],
   "source": [
    "cursor = connection.cursor()\n",
    "\n",
    "# Query to get all tables in the current database\n",
    "cursor.execute(\"\"\"\n",
    "    SELECT TABLE_NAME\n",
    "    FROM INFORMATION_SCHEMA.TABLES\n",
    "    WHERE TABLE_TYPE = 'BASE TABLE'\n",
    "\"\"\")\n",
    "\n",
    "# Fetch and print the list of tables\n",
    "tables = cursor.fetchall()\n",
    "for table in tables:\n",
    "    print(table[0])\n"
   ]
  },
  {
   "cell_type": "code",
   "execution_count": 6,
   "metadata": {},
   "outputs": [
    {
     "name": "stdout",
     "output_type": "stream",
     "text": [
      "Processing table: Sales_July_2019\n",
      "Table Sales_July_2019 saved as Sales_July_2019.csv\n",
      "Processing table: Sales_August_2019\n",
      "Table Sales_August_2019 saved as Sales_August_2019.csv\n",
      "Processing table: Sales_September_2019\n",
      "Table Sales_September_2019 saved as Sales_September_2019.csv\n",
      "Processing table: Sales_October_2019\n",
      "Table Sales_October_2019 saved as Sales_October_2019.csv\n",
      "Processing table: Sales_November_2019\n",
      "Table Sales_November_2019 saved as Sales_November_2019.csv\n",
      "Processing table: Sales_December_2019\n",
      "Table Sales_December_2019 saved as Sales_December_2019.csv\n"
     ]
    }
   ],
   "source": [
    "# Create a cursor object\n",
    "cursor = connection.cursor()\n",
    "\n",
    "# Query to get all table names in the database \n",
    "cursor.execute(\"\"\"\n",
    "    SELECT TABLE_NAME\n",
    "    FROM INFORMATION_SCHEMA.TABLES\n",
    "    WHERE TABLE_TYPE = 'BASE TABLE'\n",
    "\"\"\")\n",
    "tables = cursor.fetchall()\n",
    "\n",
    "# Iterate through each table\n",
    "for table in tables:\n",
    "    table_name = table[0]\n",
    "    print(f\"Processing table: {table_name}\")\n",
    "\n",
    "    # Query to fetch all data from the table\n",
    "    query = f\"SELECT * FROM {table_name}\"\n",
    "    df = pd.read_sql(query, connection)\n",
    "\n",
    "    # Save the data to a CSV file\n",
    "    csv_file = f\"{table_name}.csv\"\n",
    "    df.to_csv(csv_file, index=False)\n",
    "    print(f\"Table {table_name} saved as {csv_file}\")"
   ]
  }
 ],
 "metadata": {
  "kernelspec": {
   "display_name": "virt_caps",
   "language": "python",
   "name": "python3"
  },
  "language_info": {
   "codemirror_mode": {
    "name": "ipython",
    "version": 3
   },
   "file_extension": ".py",
   "mimetype": "text/x-python",
   "name": "python",
   "nbconvert_exporter": "python",
   "pygments_lexer": "ipython3",
   "version": "3.10.11"
  }
 },
 "nbformat": 4,
 "nbformat_minor": 2
}
