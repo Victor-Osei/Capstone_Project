{
 "cells": [
  {
   "cell_type": "code",
   "execution_count": 3,
   "metadata": {},
   "outputs": [],
   "source": [
    "import pyodbc    \n",
    "from dotenv import dotenv_values\n",
    "import warnings \n",
    "warnings.filterwarnings('ignore')\n",
    "from statsmodels.tools.sm_exceptions import ValueWarning\n",
    "\n",
    "#libraries for handling data\n",
    "import pandas as pd\n",
    "import numpy as np \n",
    "import os\n",
    "\n"
   ]
  },
  {
   "cell_type": "code",
   "execution_count": 4,
   "metadata": {},
   "outputs": [
    {
     "name": "stdout",
     "output_type": "stream",
     "text": [
      "Connection successful\n"
     ]
    }
   ],
   "source": [
    "# load environment variables from.env file into dictionary\n",
    "environment_variables = dotenv_values(\".env\")\n",
    " \n",
    "# get the values for the environment variables\n",
    "server = environment_variables.get(\"server\")\n",
    "user = environment_variables.get(\"user\")\n",
    "password = environment_variables.get(\"password\")\n",
    "database = environment_variables.get(\"database\")\n",
    " \n",
    "# Create a database connection string using pyodbc\n",
    "connection_string = f\"DRIVER={{SQL Server}};SERVER={server};DATABASE={database};UID={user};PWD={password}\"\n",
    "\n",
    "#Establish a connection to the database\n",
    "try:\n",
    "    connection = pyodbc.connect(connection_string)\n",
    "    print(\"Connection successful\")    \n",
    "except Exception as e:\n",
    "    print(\"Connection failed:\", e)"
   ]
  },
  {
   "cell_type": "code",
   "execution_count": 5,
   "metadata": {},
   "outputs": [
    {
     "name": "stdout",
     "output_type": "stream",
     "text": [
      "Sales_July_2019\n",
      "Sales_August_2019\n",
      "Sales_September_2019\n",
      "Sales_October_2019\n",
      "Sales_November_2019\n",
      "Sales_December_2019\n"
     ]
    }
   ],
   "source": [
    "cursor = connection.cursor()\n",
    "\n",
    "# Query to get all tables in the current database\n",
    "cursor.execute(\"\"\"\n",
    "    SELECT TABLE_NAME\n",
    "    FROM INFORMATION_SCHEMA.TABLES\n",
    "    WHERE TABLE_TYPE = 'BASE TABLE'\n",
    "\"\"\")\n",
    "\n",
    "# Fetch and print the list of tables\n",
    "tables = cursor.fetchall()\n",
    "for table in tables:\n",
    "    print(table[0])\n"
   ]
  },
  {
   "cell_type": "code",
   "execution_count": 6,
   "metadata": {},
   "outputs": [
    {
     "name": "stdout",
     "output_type": "stream",
     "text": [
      "Processing table: Sales_July_2019\n",
      "Table Sales_July_2019 saved as Sales_July_2019.csv\n",
      "Processing table: Sales_August_2019\n",
      "Table Sales_August_2019 saved as Sales_August_2019.csv\n",
      "Processing table: Sales_September_2019\n",
      "Table Sales_September_2019 saved as Sales_September_2019.csv\n",
      "Processing table: Sales_October_2019\n",
      "Table Sales_October_2019 saved as Sales_October_2019.csv\n",
      "Processing table: Sales_November_2019\n",
      "Table Sales_November_2019 saved as Sales_November_2019.csv\n",
      "Processing table: Sales_December_2019\n",
      "Table Sales_December_2019 saved as Sales_December_2019.csv\n"
     ]
    }
   ],
   "source": [
    "# Create a cursor object\n",
    "cursor = connection.cursor()\n",
    "\n",
    "# Query to get all table names in the database \n",
    "cursor.execute(\"\"\"\n",
    "    SELECT TABLE_NAME\n",
    "    FROM INFORMATION_SCHEMA.TABLES\n",
    "    WHERE TABLE_TYPE = 'BASE TABLE'\n",
    "\"\"\")\n",
    "tables = cursor.fetchall()\n",
    "\n",
    "# Iterate through each table\n",
    "for table in tables:\n",
    "    table_name = table[0]\n",
    "    print(f\"Processing table: {table_name}\")\n",
    "\n",
    "    # Query to fetch all data from the table\n",
    "    query = f\"SELECT * FROM {table_name}\"\n",
    "    df = pd.read_sql(query, connection)\n",
    "\n",
    "    # Save the data to a CSV file\n",
    "    csv_file = f\"{table_name}.csv\"\n",
    "    df.to_csv(csv_file, index=False)\n",
    "    print(f\"Table {table_name} saved as {csv_file}\")"
   ]
  },
  {
   "cell_type": "code",
   "execution_count": 11,
   "metadata": {},
   "outputs": [
    {
     "name": "stdout",
     "output_type": "stream",
     "text": [
      "File: Sales_April_2019.csv, Rows: 18383, Columns: 6\n",
      "File: Sales_August_2019.csv, Rows: 12011, Columns: 6\n",
      "File: Sales_December_2019.csv, Rows: 25117, Columns: 6\n",
      "File: Sales_February_2019.csv, Rows: 12036, Columns: 6\n",
      "File: Sales_January_2019.csv, Rows: 9723, Columns: 6\n",
      "File: Sales_July_2019.csv, Rows: 14371, Columns: 6\n",
      "File: Sales_June_2019.csv, Rows: 13622, Columns: 6\n",
      "File: Sales_March_2019.csv, Rows: 15226, Columns: 6\n",
      "File: Sales_May_2019.csv, Rows: 16635, Columns: 6\n",
      "File: Sales_November_2019.csv, Rows: 17661, Columns: 6\n",
      "File: Sales_October_2019.csv, Rows: 20379, Columns: 6\n",
      "File: Sales_September_2019.csv, Rows: 11686, Columns: 6\n"
     ]
    }
   ],
   "source": [
    "\n",
    "# Directory where your CSV files are saved\n",
    "directory = r\"C:\\Users\\DELL\\OneDrive\\Capstone_Project\\data\"  # Change this to your actual directory\n",
    "\n",
    "# Iterate through all files in the directory\n",
    "for filename in os.listdir(directory):\n",
    "    if filename.endswith(\".csv\"):\n",
    "        # Full file path\n",
    "        file_path = os.path.join(directory, filename)\n",
    "        \n",
    "        # Load the CSV file into a DataFrame\n",
    "        df = pd.read_csv(file_path)\n",
    "        \n",
    "        # Get the number of rows and columns\n",
    "        rows, columns = df.shape\n",
    "        \n",
    "        # Print the results\n",
    "        print(f\"File: {filename}, Rows: {rows}, Columns: {columns}\")\n"
   ]
  }
 ],
 "metadata": {
  "kernelspec": {
   "display_name": "virt_caps",
   "language": "python",
   "name": "python3"
  },
  "language_info": {
   "codemirror_mode": {
    "name": "ipython",
    "version": 3
   },
   "file_extension": ".py",
   "mimetype": "text/x-python",
   "name": "python",
   "nbconvert_exporter": "python",
   "pygments_lexer": "ipython3",
   "version": "3.10.11"
  }
 },
 "nbformat": 4,
 "nbformat_minor": 2
}
