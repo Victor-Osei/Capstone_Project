{
 "cells": [
  {
   "cell_type": "code",
   "execution_count": 5,
   "metadata": {},
   "outputs": [],
   "source": [
    "import pyodbc    \n",
    "from dotenv import dotenv_values\n",
    "import warnings \n",
    "warnings.filterwarnings('ignore')\n",
    "from statsmodels.tools.sm_exceptions import ValueWarning\n",
    "\n",
    "#libraries for handling data\n",
    "import pandas as pd\n",
    "import numpy as np \n",
    "import os\n",
    "\n"
   ]
  },
  {
   "cell_type": "code",
   "execution_count": 8,
   "metadata": {},
   "outputs": [],
   "source": [
    "conn_str = (\n",
    "    r'DRIVER={ODBC Driver 17 for SQL Server};'\n",
    "    r'SERVER=dap-projects-database.database.windows.net;'\n",
    "    r'DATABASE=dapDB;'\n",
    "    r'UID=capstone;'\n",
    "    r'PWD=Z7x@8pM$2w'\n",
    ")\n",
    "conn = pyodbc.connect(conn_str)"
   ]
  },
  {
   "cell_type": "code",
   "execution_count": 11,
   "metadata": {},
   "outputs": [],
   "source": [
    "df = pd.read_csv(\"data/Sales_April_2019.csv\")"
   ]
  },
  {
   "cell_type": "code",
   "execution_count": 18,
   "metadata": {},
   "outputs": [],
   "source": [
    "df = pd.read_csv(\"data/Sales_August_2019.csv\")"
   ]
  },
  {
   "cell_type": "code",
   "execution_count": 19,
   "metadata": {},
   "outputs": [],
   "source": [
    "df = pd.read_csv(\"data/Sales_December_2019.csv\")"
   ]
  },
  {
   "cell_type": "code",
   "execution_count": 24,
   "metadata": {},
   "outputs": [],
   "source": [
    "df = pd.read_csv(\"data/Sales_January_2019.csv\")"
   ]
  },
  {
   "cell_type": "code",
   "execution_count": 22,
   "metadata": {},
   "outputs": [],
   "source": [
    "\n",
    "df = pd.read_csv(\"data/Sales_February_2019.csv\")\n"
   ]
  },
  {
   "cell_type": "code",
   "execution_count": 25,
   "metadata": {},
   "outputs": [],
   "source": [
    "df = pd.read_csv(\"data/Sales_july_2019.csv\")"
   ]
  },
  {
   "cell_type": "code",
   "execution_count": 26,
   "metadata": {},
   "outputs": [],
   "source": [
    "df = pd.read_csv(\"data/Sales_June_2019.csv\")"
   ]
  },
  {
   "cell_type": "code",
   "execution_count": 27,
   "metadata": {},
   "outputs": [],
   "source": [
    "df = pd.read_csv(\"data/Sales_march_2019.csv\")"
   ]
  },
  {
   "cell_type": "code",
   "execution_count": 28,
   "metadata": {},
   "outputs": [],
   "source": [
    "df = pd.read_csv(\"data/Sales_may_2019.csv\")"
   ]
  },
  {
   "cell_type": "code",
   "execution_count": 29,
   "metadata": {},
   "outputs": [],
   "source": [
    "df = pd.read_csv(\"data/Sales_November_2019.csv\")"
   ]
  },
  {
   "cell_type": "code",
   "execution_count": 30,
   "metadata": {},
   "outputs": [],
   "source": [
    "df = pd.read_csv(\"data/Sales_october_2019.csv\")"
   ]
  },
  {
   "cell_type": "code",
   "execution_count": 31,
   "metadata": {},
   "outputs": [],
   "source": [
    "df = pd.read_csv(\"data/Sales_september_2019.csv\")"
   ]
  },
  {
   "cell_type": "code",
   "execution_count": 37,
   "metadata": {},
   "outputs": [
    {
     "name": "stdout",
     "output_type": "stream",
     "text": [
      "Combined DataFrame:\n",
      "   Order_ID                Product  Quantity_Ordered  Price_Each  \\\n",
      "0  248151.0  AA Batteries (4-pack)               4.0    3.840000   \n",
      "1  248152.0   USB-C Charging Cable               2.0   11.950000   \n",
      "2  248153.0   USB-C Charging Cable               1.0   11.950000   \n",
      "3  248154.0       27in FHD Monitor               1.0  149.990005   \n",
      "4  248155.0   USB-C Charging Cable               1.0   11.950000   \n",
      "\n",
      "                    Order_Date                       Purchase_Address  \n",
      "0  2017-09-19 14:44:00.0000000    380 North St, Los Angeles, CA 90001  \n",
      "1  2029-09-19 10:19:00.0000000           511 8th St, Austin, TX 73301  \n",
      "2  2016-09-19 17:48:00.0000000  151 Johnson St, Los Angeles, CA 90001  \n",
      "3  2027-09-19 07:52:00.0000000      355 Hickory St, Seattle, WA 98101  \n",
      "4  2001-09-19 19:03:00.0000000          125 5th St, Atlanta, GA 30301  \n"
     ]
    }
   ],
   "source": [
    "# List to hold DataFrames\n",
    "dfs = []\n",
    " # Append DataFrame to the list\n",
    "dfs.append(df)\n",
    "\n",
    "# Concatenate all DataFrames into one\n",
    "combined_df = pd.concat(dfs, ignore_index=True)\n",
    "\n",
    "# Display the first few rows of the combined DataFrame\n",
    "print(\"Combined DataFrame:\")\n",
    "print(combined_df.head())\n"
   ]
  },
  {
   "cell_type": "code",
   "execution_count": 41,
   "metadata": {},
   "outputs": [
    {
     "data": {
      "text/plain": [
       "<bound method DataFrame.info of        Order_ID                 Product  Quantity_Ordered  Price_Each  \\\n",
       "0      248151.0   AA Batteries (4-pack)               4.0    3.840000   \n",
       "1      248152.0    USB-C Charging Cable               2.0   11.950000   \n",
       "2      248153.0    USB-C Charging Cable               1.0   11.950000   \n",
       "3      248154.0        27in FHD Monitor               1.0  149.990005   \n",
       "4      248155.0    USB-C Charging Cable               1.0   11.950000   \n",
       "...         ...                     ...               ...         ...   \n",
       "11681  259353.0  AAA Batteries (4-pack)               3.0    2.990000   \n",
       "11682  259354.0                  iPhone               1.0  700.000000   \n",
       "11683  259355.0                  iPhone               1.0  700.000000   \n",
       "11684  259356.0  34in Ultrawide Monitor               1.0  379.989990   \n",
       "11685  259357.0    USB-C Charging Cable               1.0   11.950000   \n",
       "\n",
       "                        Order_Date                         Purchase_Address  \n",
       "0      2017-09-19 14:44:00.0000000      380 North St, Los Angeles, CA 90001  \n",
       "1      2029-09-19 10:19:00.0000000             511 8th St, Austin, TX 73301  \n",
       "2      2016-09-19 17:48:00.0000000    151 Johnson St, Los Angeles, CA 90001  \n",
       "3      2027-09-19 07:52:00.0000000        355 Hickory St, Seattle, WA 98101  \n",
       "4      2001-09-19 19:03:00.0000000            125 5th St, Atlanta, GA 30301  \n",
       "...                            ...                                      ...  \n",
       "11681  2017-09-19 20:56:00.0000000   840 Highland St, Los Angeles, CA 90001  \n",
       "11682  2001-09-19 16:00:00.0000000  216 Dogwood St, San Francisco, CA 94016  \n",
       "11683  2023-09-19 07:39:00.0000000     220 12th St, San Francisco, CA 94016  \n",
       "11684  2019-09-19 17:30:00.0000000   511 Forest St, San Francisco, CA 94016  \n",
       "11685  2030-09-19 00:18:00.0000000   250 Meadow St, San Francisco, CA 94016  \n",
       "\n",
       "[11686 rows x 6 columns]>"
      ]
     },
     "execution_count": 41,
     "metadata": {},
     "output_type": "execute_result"
    }
   ],
   "source": [
    "combined_df.info"
   ]
  },
  {
   "cell_type": "code",
   "execution_count": 42,
   "metadata": {},
   "outputs": [
    {
     "data": {
      "text/plain": [
       "(11686, 6)"
      ]
     },
     "execution_count": 42,
     "metadata": {},
     "output_type": "execute_result"
    }
   ],
   "source": [
    "combined_df.shape"
   ]
  },
  {
   "cell_type": "code",
   "execution_count": 43,
   "metadata": {},
   "outputs": [
    {
     "data": {
      "text/plain": [
       "<bound method NDFrame.describe of        Order_ID                 Product  Quantity_Ordered  Price_Each  \\\n",
       "0      248151.0   AA Batteries (4-pack)               4.0    3.840000   \n",
       "1      248152.0    USB-C Charging Cable               2.0   11.950000   \n",
       "2      248153.0    USB-C Charging Cable               1.0   11.950000   \n",
       "3      248154.0        27in FHD Monitor               1.0  149.990005   \n",
       "4      248155.0    USB-C Charging Cable               1.0   11.950000   \n",
       "...         ...                     ...               ...         ...   \n",
       "11681  259353.0  AAA Batteries (4-pack)               3.0    2.990000   \n",
       "11682  259354.0                  iPhone               1.0  700.000000   \n",
       "11683  259355.0                  iPhone               1.0  700.000000   \n",
       "11684  259356.0  34in Ultrawide Monitor               1.0  379.989990   \n",
       "11685  259357.0    USB-C Charging Cable               1.0   11.950000   \n",
       "\n",
       "                        Order_Date                         Purchase_Address  \n",
       "0      2017-09-19 14:44:00.0000000      380 North St, Los Angeles, CA 90001  \n",
       "1      2029-09-19 10:19:00.0000000             511 8th St, Austin, TX 73301  \n",
       "2      2016-09-19 17:48:00.0000000    151 Johnson St, Los Angeles, CA 90001  \n",
       "3      2027-09-19 07:52:00.0000000        355 Hickory St, Seattle, WA 98101  \n",
       "4      2001-09-19 19:03:00.0000000            125 5th St, Atlanta, GA 30301  \n",
       "...                            ...                                      ...  \n",
       "11681  2017-09-19 20:56:00.0000000   840 Highland St, Los Angeles, CA 90001  \n",
       "11682  2001-09-19 16:00:00.0000000  216 Dogwood St, San Francisco, CA 94016  \n",
       "11683  2023-09-19 07:39:00.0000000     220 12th St, San Francisco, CA 94016  \n",
       "11684  2019-09-19 17:30:00.0000000   511 Forest St, San Francisco, CA 94016  \n",
       "11685  2030-09-19 00:18:00.0000000   250 Meadow St, San Francisco, CA 94016  \n",
       "\n",
       "[11686 rows x 6 columns]>"
      ]
     },
     "execution_count": 43,
     "metadata": {},
     "output_type": "execute_result"
    }
   ],
   "source": [
    "combined_df.describe"
   ]
  },
  {
   "cell_type": "code",
   "execution_count": 44,
   "metadata": {},
   "outputs": [
    {
     "data": {
      "text/plain": [
       "Order_ID            57\n",
       "Product             40\n",
       "Quantity_Ordered    57\n",
       "Price_Each          57\n",
       "Order_Date          57\n",
       "Purchase_Address    40\n",
       "dtype: int64"
      ]
     },
     "execution_count": 44,
     "metadata": {},
     "output_type": "execute_result"
    }
   ],
   "source": [
    "#Display number of missing values in each column\n",
    "(combined_df.isnull().sum())"
   ]
  },
  {
   "cell_type": "code",
   "execution_count": 6,
   "metadata": {},
   "outputs": [
    {
     "name": "stdout",
     "output_type": "stream",
     "text": [
      "Processing table: Sales_July_2019\n",
      "Table Sales_July_2019 saved as Sales_July_2019.csv\n",
      "Processing table: Sales_August_2019\n",
      "Table Sales_August_2019 saved as Sales_August_2019.csv\n",
      "Processing table: Sales_September_2019\n",
      "Table Sales_September_2019 saved as Sales_September_2019.csv\n",
      "Processing table: Sales_October_2019\n",
      "Table Sales_October_2019 saved as Sales_October_2019.csv\n",
      "Processing table: Sales_November_2019\n",
      "Table Sales_November_2019 saved as Sales_November_2019.csv\n",
      "Processing table: Sales_December_2019\n",
      "Table Sales_December_2019 saved as Sales_December_2019.csv\n"
     ]
    }
   ],
   "source": [
    "# Create a cursor object\n",
    "cursor = connection.cursor()\n",
    "\n",
    "# Query to get all table names in the database \n",
    "cursor.execute(\"\"\"\n",
    "    SELECT TABLE_NAME\n",
    "    FROM INFORMATION_SCHEMA.TABLES\n",
    "    WHERE TABLE_TYPE = 'BASE TABLE'\n",
    "\"\"\")\n",
    "tables = cursor.fetchall()\n",
    "\n",
    "# Iterate through each table\n",
    "for table in tables:\n",
    "    table_name = table[0]\n",
    "    print(f\"Processing table: {table_name}\")\n",
    "\n",
    "    # Query to fetch all data from the table\n",
    "    query = f\"SELECT * FROM {table_name}\"\n",
    "    df = pd.read_sql(query, connection)\n",
    "\n",
    "    # Save the data to a CSV file\n",
    "    csv_file = f\"{table_name}.csv\"\n",
    "    df.to_csv(csv_file, index=False)\n",
    "    print(f\"Table {table_name} saved as {csv_file}\")"
   ]
  },
  {
   "cell_type": "code",
   "execution_count": 1,
   "metadata": {},
   "outputs": [
    {
     "ename": "NameError",
     "evalue": "name 'os' is not defined",
     "output_type": "error",
     "traceback": [
      "\u001b[1;31m---------------------------------------------------------------------------\u001b[0m",
      "\u001b[1;31mNameError\u001b[0m                                 Traceback (most recent call last)",
      "Cell \u001b[1;32mIn[1], line 5\u001b[0m\n\u001b[0;32m      2\u001b[0m directory \u001b[38;5;241m=\u001b[39m \u001b[38;5;124mr\u001b[39m\u001b[38;5;124m\"\u001b[39m\u001b[38;5;124mC:\u001b[39m\u001b[38;5;124m\\\u001b[39m\u001b[38;5;124mUsers\u001b[39m\u001b[38;5;124m\\\u001b[39m\u001b[38;5;124mDELL\u001b[39m\u001b[38;5;124m\\\u001b[39m\u001b[38;5;124mOneDrive\u001b[39m\u001b[38;5;124m\\\u001b[39m\u001b[38;5;124mCapstone_Project\u001b[39m\u001b[38;5;124m\\\u001b[39m\u001b[38;5;124mdata\u001b[39m\u001b[38;5;124m\"\u001b[39m  \u001b[38;5;66;03m# Change this to your actual directory\u001b[39;00m\n\u001b[0;32m      4\u001b[0m \u001b[38;5;66;03m# Iterate through all files in the directory\u001b[39;00m\n\u001b[1;32m----> 5\u001b[0m \u001b[38;5;28;01mfor\u001b[39;00m filename \u001b[38;5;129;01min\u001b[39;00m \u001b[43mos\u001b[49m\u001b[38;5;241m.\u001b[39mlistdir(directory):\n\u001b[0;32m      6\u001b[0m     \u001b[38;5;28;01mif\u001b[39;00m filename\u001b[38;5;241m.\u001b[39mendswith(\u001b[38;5;124m\"\u001b[39m\u001b[38;5;124m.csv\u001b[39m\u001b[38;5;124m\"\u001b[39m):\n\u001b[0;32m      7\u001b[0m         \u001b[38;5;66;03m# Full file path\u001b[39;00m\n\u001b[0;32m      8\u001b[0m         file_path \u001b[38;5;241m=\u001b[39m os\u001b[38;5;241m.\u001b[39mpath\u001b[38;5;241m.\u001b[39mjoin(directory, filename)\n",
      "\u001b[1;31mNameError\u001b[0m: name 'os' is not defined"
     ]
    }
   ],
   "source": [
    "\n",
    "# Directory where your CSV files are saved\n",
    "directory = r\"C:\\Users\\DELL\\OneDrive\\Capstone_Project\\data\"  # Change this to your actual directory\n",
    "\n",
    "# Iterate through all files in the directory\n",
    "for filename in os.listdir(directory):\n",
    "    if filename.endswith(\".csv\"):\n",
    "        # Full file path\n",
    "        file_path = os.path.join(directory, filename)\n",
    "        \n",
    "        # Load the CSV file into a DataFrame\n",
    "        df = pd.read_csv(file_path)\n",
    "        \n",
    "        # Get the number of rows and columns\n",
    "        rows, columns = df.shape\n",
    "        \n",
    "        # Print the results\n",
    "        print(f\"File: {filename}, Rows: {rows}, Columns: {columns}\")\n"
   ]
  }
 ],
 "metadata": {
  "kernelspec": {
   "display_name": "virt_caps",
   "language": "python",
   "name": "python3"
  },
  "language_info": {
   "codemirror_mode": {
    "name": "ipython",
    "version": 3
   },
   "file_extension": ".py",
   "mimetype": "text/x-python",
   "name": "python",
   "nbconvert_exporter": "python",
   "pygments_lexer": "ipython3",
   "version": "3.12.4"
  }
 },
 "nbformat": 4,
 "nbformat_minor": 2
}
